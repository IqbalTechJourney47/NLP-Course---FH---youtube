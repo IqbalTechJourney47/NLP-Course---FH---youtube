{
 "cells": [
  {
   "cell_type": "code",
   "execution_count": 1,
   "id": "4405cb44",
   "metadata": {},
   "outputs": [],
   "source": [
    "#!pip install inltk\n",
    "#!pip install torch==1.7.1+cpu -f https://download.pytorch.org/whl/torch_stable.html"
   ]
  },
  {
   "cell_type": "code",
   "execution_count": 2,
   "id": "7acdf58e",
   "metadata": {},
   "outputs": [
    {
     "name": "stdout",
     "output_type": "stream",
     "text": [
      "Requirement already satisfied: inltk in c:\\users\\muhammad iqbal\\anaconda3\\lib\\site-packages (0.9)\n",
      "Requirement already satisfied: scipy in c:\\users\\muhammad iqbal\\anaconda3\\lib\\site-packages (from inltk) (1.11.3)\n",
      "Requirement already satisfied: pyyaml in c:\\users\\muhammad iqbal\\anaconda3\\lib\\site-packages (from inltk) (6.0)\n",
      "Requirement already satisfied: numexpr in c:\\users\\muhammad iqbal\\anaconda3\\lib\\site-packages (from inltk) (2.8.7)\n",
      "Requirement already satisfied: aiohttp>=3.5.4 in c:\\users\\muhammad iqbal\\anaconda3\\lib\\site-packages (from inltk) (3.8.6)\n",
      "Requirement already satisfied: bottleneck in c:\\users\\muhammad iqbal\\anaconda3\\lib\\site-packages (from inltk) (1.3.7)\n",
      "Requirement already satisfied: spacy>=2.0.18 in c:\\users\\muhammad iqbal\\anaconda3\\lib\\site-packages (from inltk) (3.7.1)\n",
      "Requirement already satisfied: numpy>=1.15 in c:\\users\\muhammad iqbal\\anaconda3\\lib\\site-packages (from inltk) (1.25.2)\n",
      "Requirement already satisfied: nvidia-ml-py3 in c:\\users\\muhammad iqbal\\anaconda3\\lib\\site-packages (from inltk) (7.352.0)\n",
      "Requirement already satisfied: beautifulsoup4 in c:\\users\\muhammad iqbal\\anaconda3\\lib\\site-packages (from inltk) (4.12.2)\n",
      "Requirement already satisfied: pandas in c:\\users\\muhammad iqbal\\anaconda3\\lib\\site-packages (from inltk) (2.1.0)\n",
      "Requirement already satisfied: matplotlib in c:\\users\\muhammad iqbal\\anaconda3\\lib\\site-packages (from inltk) (3.8.0)\n",
      "Requirement already satisfied: async-timeout>=3.0.1 in c:\\users\\muhammad iqbal\\anaconda3\\lib\\site-packages (from inltk) (4.0.3)\n",
      "Requirement already satisfied: fastprogress>=0.1.19 in c:\\users\\muhammad iqbal\\anaconda3\\lib\\site-packages (from inltk) (1.0.3)\n",
      "Requirement already satisfied: fastai==1.0.57 in c:\\users\\muhammad iqbal\\anaconda3\\lib\\site-packages (from inltk) (1.0.57)\n",
      "Requirement already satisfied: requests in c:\\users\\muhammad iqbal\\anaconda3\\lib\\site-packages (from inltk) (2.31.0)\n",
      "Requirement already satisfied: typing in c:\\users\\muhammad iqbal\\anaconda3\\lib\\site-packages (from inltk) (3.7.4.3)\n",
      "Requirement already satisfied: sentencepiece in c:\\users\\muhammad iqbal\\anaconda3\\lib\\site-packages (from inltk) (0.1.99)\n",
      "Requirement already satisfied: Pillow in c:\\users\\muhammad iqbal\\anaconda3\\lib\\site-packages (from inltk) (9.4.0)\n",
      "Requirement already satisfied: packaging in c:\\users\\muhammad iqbal\\anaconda3\\lib\\site-packages (from inltk) (23.1)\n",
      "Requirement already satisfied: torchvision in c:\\users\\muhammad iqbal\\anaconda3\\lib\\site-packages (from fastai==1.0.57->inltk) (0.16.0)\n",
      "Requirement already satisfied: torch>=1.0.0 in c:\\users\\muhammad iqbal\\anaconda3\\lib\\site-packages (from fastai==1.0.57->inltk) (2.1.0)\n",
      "Requirement already satisfied: frozenlist>=1.1.1 in c:\\users\\muhammad iqbal\\anaconda3\\lib\\site-packages (from aiohttp>=3.5.4->inltk) (1.4.0)\n",
      "Requirement already satisfied: multidict<7.0,>=4.5 in c:\\users\\muhammad iqbal\\anaconda3\\lib\\site-packages (from aiohttp>=3.5.4->inltk) (6.0.4)\n",
      "Requirement already satisfied: yarl<2.0,>=1.0 in c:\\users\\muhammad iqbal\\anaconda3\\lib\\site-packages (from aiohttp>=3.5.4->inltk) (1.9.2)\n",
      "Requirement already satisfied: attrs>=17.3.0 in c:\\users\\muhammad iqbal\\anaconda3\\lib\\site-packages (from aiohttp>=3.5.4->inltk) (22.1.0)\n",
      "Requirement already satisfied: aiosignal>=1.1.2 in c:\\users\\muhammad iqbal\\anaconda3\\lib\\site-packages (from aiohttp>=3.5.4->inltk) (1.3.1)\n",
      "Requirement already satisfied: charset-normalizer<4.0,>=2.0 in c:\\users\\muhammad iqbal\\anaconda3\\lib\\site-packages (from aiohttp>=3.5.4->inltk) (2.0.4)\n",
      "Requirement already satisfied: langcodes<4.0.0,>=3.2.0 in c:\\users\\muhammad iqbal\\anaconda3\\lib\\site-packages (from spacy>=2.0.18->inltk) (3.3.0)\n",
      "Requirement already satisfied: typer<0.10.0,>=0.3.0 in c:\\users\\muhammad iqbal\\anaconda3\\lib\\site-packages (from spacy>=2.0.18->inltk) (0.9.0)\n",
      "Requirement already satisfied: pathy>=0.10.0 in c:\\users\\muhammad iqbal\\anaconda3\\lib\\site-packages (from spacy>=2.0.18->inltk) (0.10.2)\n",
      "Requirement already satisfied: setuptools in c:\\users\\muhammad iqbal\\anaconda3\\lib\\site-packages (from spacy>=2.0.18->inltk) (65.6.3)\n",
      "Requirement already satisfied: pydantic!=1.8,!=1.8.1,<3.0.0,>=1.7.4 in c:\\users\\muhammad iqbal\\anaconda3\\lib\\site-packages (from spacy>=2.0.18->inltk) (2.4.2)\n",
      "Requirement already satisfied: spacy-legacy<3.1.0,>=3.0.11 in c:\\users\\muhammad iqbal\\anaconda3\\lib\\site-packages (from spacy>=2.0.18->inltk) (3.0.12)\n",
      "Requirement already satisfied: cymem<2.1.0,>=2.0.2 in c:\\users\\muhammad iqbal\\anaconda3\\lib\\site-packages (from spacy>=2.0.18->inltk) (2.0.8)\n",
      "Requirement already satisfied: smart-open<7.0.0,>=5.2.1 in c:\\users\\muhammad iqbal\\anaconda3\\lib\\site-packages (from spacy>=2.0.18->inltk) (6.4.0)\n",
      "Requirement already satisfied: weasel<0.4.0,>=0.1.0 in c:\\users\\muhammad iqbal\\anaconda3\\lib\\site-packages (from spacy>=2.0.18->inltk) (0.3.2)\n",
      "Requirement already satisfied: srsly<3.0.0,>=2.4.3 in c:\\users\\muhammad iqbal\\anaconda3\\lib\\site-packages (from spacy>=2.0.18->inltk) (2.4.8)\n",
      "Requirement already satisfied: thinc<8.3.0,>=8.1.8 in c:\\users\\muhammad iqbal\\anaconda3\\lib\\site-packages (from spacy>=2.0.18->inltk) (8.2.1)\n",
      "Requirement already satisfied: murmurhash<1.1.0,>=0.28.0 in c:\\users\\muhammad iqbal\\anaconda3\\lib\\site-packages (from spacy>=2.0.18->inltk) (1.0.10)\n",
      "Requirement already satisfied: catalogue<2.1.0,>=2.0.6 in c:\\users\\muhammad iqbal\\anaconda3\\lib\\site-packages (from spacy>=2.0.18->inltk) (2.0.10)\n",
      "Requirement already satisfied: tqdm<5.0.0,>=4.38.0 in c:\\users\\muhammad iqbal\\anaconda3\\lib\\site-packages (from spacy>=2.0.18->inltk) (4.65.0)\n",
      "Requirement already satisfied: jinja2 in c:\\users\\muhammad iqbal\\anaconda3\\lib\\site-packages (from spacy>=2.0.18->inltk) (3.1.2)\n",
      "Requirement already satisfied: spacy-loggers<2.0.0,>=1.0.0 in c:\\users\\muhammad iqbal\\anaconda3\\lib\\site-packages (from spacy>=2.0.18->inltk) (1.0.5)\n",
      "Requirement already satisfied: preshed<3.1.0,>=3.0.2 in c:\\users\\muhammad iqbal\\anaconda3\\lib\\site-packages (from spacy>=2.0.18->inltk) (3.0.9)\n",
      "Requirement already satisfied: wasabi<1.2.0,>=0.9.1 in c:\\users\\muhammad iqbal\\anaconda3\\lib\\site-packages (from spacy>=2.0.18->inltk) (1.1.2)\n",
      "Requirement already satisfied: urllib3<3,>=1.21.1 in c:\\users\\muhammad iqbal\\anaconda3\\lib\\site-packages (from requests->inltk) (1.26.16)\n",
      "Requirement already satisfied: idna<4,>=2.5 in c:\\users\\muhammad iqbal\\anaconda3\\lib\\site-packages (from requests->inltk) (2.10)\n",
      "Requirement already satisfied: certifi>=2017.4.17 in c:\\users\\muhammad iqbal\\anaconda3\\lib\\site-packages (from requests->inltk) (2023.7.22)\n",
      "Requirement already satisfied: soupsieve>1.2 in c:\\users\\muhammad iqbal\\anaconda3\\lib\\site-packages (from beautifulsoup4->inltk) (2.4)\n",
      "Requirement already satisfied: pyparsing>=2.3.1 in c:\\users\\muhammad iqbal\\anaconda3\\lib\\site-packages (from matplotlib->inltk) (3.1.1)\n",
      "Requirement already satisfied: contourpy>=1.0.1 in c:\\users\\muhammad iqbal\\anaconda3\\lib\\site-packages (from matplotlib->inltk) (1.1.1)\n",
      "Requirement already satisfied: python-dateutil>=2.7 in c:\\users\\muhammad iqbal\\anaconda3\\lib\\site-packages (from matplotlib->inltk) (2.8.2)\n",
      "Requirement already satisfied: fonttools>=4.22.0 in c:\\users\\muhammad iqbal\\anaconda3\\lib\\site-packages (from matplotlib->inltk) (4.42.1)\n",
      "Requirement already satisfied: cycler>=0.10 in c:\\users\\muhammad iqbal\\anaconda3\\lib\\site-packages (from matplotlib->inltk) (0.11.0)\n",
      "Requirement already satisfied: kiwisolver>=1.0.1 in c:\\users\\muhammad iqbal\\anaconda3\\lib\\site-packages (from matplotlib->inltk) (1.4.5)\n",
      "Requirement already satisfied: pytz>=2020.1 in c:\\users\\muhammad iqbal\\anaconda3\\lib\\site-packages (from pandas->inltk) (2022.7)\n",
      "Requirement already satisfied: tzdata>=2022.1 in c:\\users\\muhammad iqbal\\anaconda3\\lib\\site-packages (from pandas->inltk) (2023.3)\n",
      "Requirement already satisfied: annotated-types>=0.4.0 in c:\\users\\muhammad iqbal\\anaconda3\\lib\\site-packages (from pydantic!=1.8,!=1.8.1,<3.0.0,>=1.7.4->spacy>=2.0.18->inltk) (0.6.0)\n",
      "Requirement already satisfied: typing-extensions>=4.6.1 in c:\\users\\muhammad iqbal\\anaconda3\\lib\\site-packages (from pydantic!=1.8,!=1.8.1,<3.0.0,>=1.7.4->spacy>=2.0.18->inltk) (4.7.1)\n",
      "Requirement already satisfied: pydantic-core==2.10.1 in c:\\users\\muhammad iqbal\\anaconda3\\lib\\site-packages (from pydantic!=1.8,!=1.8.1,<3.0.0,>=1.7.4->spacy>=2.0.18->inltk) (2.10.1)\n",
      "Requirement already satisfied: six>=1.5 in c:\\users\\muhammad iqbal\\anaconda3\\lib\\site-packages (from python-dateutil>=2.7->matplotlib->inltk) (1.16.0)\n",
      "Requirement already satisfied: confection<1.0.0,>=0.0.1 in c:\\users\\muhammad iqbal\\anaconda3\\lib\\site-packages (from thinc<8.3.0,>=8.1.8->spacy>=2.0.18->inltk) (0.1.3)\n",
      "Requirement already satisfied: blis<0.8.0,>=0.7.8 in c:\\users\\muhammad iqbal\\anaconda3\\lib\\site-packages (from thinc<8.3.0,>=8.1.8->spacy>=2.0.18->inltk) (0.7.11)\n",
      "Requirement already satisfied: sympy in c:\\users\\muhammad iqbal\\anaconda3\\lib\\site-packages (from torch>=1.0.0->fastai==1.0.57->inltk) (1.12)\n",
      "Requirement already satisfied: filelock in c:\\users\\muhammad iqbal\\anaconda3\\lib\\site-packages (from torch>=1.0.0->fastai==1.0.57->inltk) (3.9.0)\n",
      "Requirement already satisfied: fsspec in c:\\users\\muhammad iqbal\\anaconda3\\lib\\site-packages (from torch>=1.0.0->fastai==1.0.57->inltk) (2023.10.0)\n",
      "Requirement already satisfied: networkx in c:\\users\\muhammad iqbal\\anaconda3\\lib\\site-packages (from torch>=1.0.0->fastai==1.0.57->inltk) (3.2)\n",
      "Requirement already satisfied: colorama in c:\\users\\muhammad iqbal\\anaconda3\\lib\\site-packages (from tqdm<5.0.0,>=4.38.0->spacy>=2.0.18->inltk) (0.4.6)\n",
      "Requirement already satisfied: click<9.0.0,>=7.1.1 in c:\\users\\muhammad iqbal\\anaconda3\\lib\\site-packages (from typer<0.10.0,>=0.3.0->spacy>=2.0.18->inltk) (8.0.4)\n",
      "Requirement already satisfied: cloudpathlib<0.16.0,>=0.7.0 in c:\\users\\muhammad iqbal\\anaconda3\\lib\\site-packages (from weasel<0.4.0,>=0.1.0->spacy>=2.0.18->inltk) (0.15.1)\n",
      "Requirement already satisfied: MarkupSafe>=2.0 in c:\\users\\muhammad iqbal\\anaconda3\\lib\\site-packages (from jinja2->spacy>=2.0.18->inltk) (2.1.1)\n",
      "Requirement already satisfied: mpmath>=0.19 in c:\\users\\muhammad iqbal\\anaconda3\\lib\\site-packages (from sympy->torch>=1.0.0->fastai==1.0.57->inltk) (1.3.0)\n"
     ]
    },
    {
     "name": "stderr",
     "output_type": "stream",
     "text": [
      "WARNING: Ignoring invalid distribution -rotobuf (c:\\users\\muhammad iqbal\\anaconda3\\lib\\site-packages)\n",
      "WARNING: Ignoring invalid distribution -ensorflow-intel (c:\\users\\muhammad iqbal\\anaconda3\\lib\\site-packages)\n",
      "WARNING: Ignoring invalid distribution -rotobuf (c:\\users\\muhammad iqbal\\anaconda3\\lib\\site-packages)\n",
      "WARNING: Ignoring invalid distribution -ensorflow-intel (c:\\users\\muhammad iqbal\\anaconda3\\lib\\site-packages)\n",
      "WARNING: Ignoring invalid distribution -rotobuf (c:\\users\\muhammad iqbal\\anaconda3\\lib\\site-packages)\n",
      "WARNING: Ignoring invalid distribution -ensorflow-intel (c:\\users\\muhammad iqbal\\anaconda3\\lib\\site-packages)\n",
      "WARNING: Ignoring invalid distribution -rotobuf (c:\\users\\muhammad iqbal\\anaconda3\\lib\\site-packages)\n",
      "WARNING: Ignoring invalid distribution -ensorflow-intel (c:\\users\\muhammad iqbal\\anaconda3\\lib\\site-packages)\n",
      "WARNING: Ignoring invalid distribution -rotobuf (c:\\users\\muhammad iqbal\\anaconda3\\lib\\site-packages)\n",
      "WARNING: Ignoring invalid distribution -ensorflow-intel (c:\\users\\muhammad iqbal\\anaconda3\\lib\\site-packages)\n",
      "WARNING: Ignoring invalid distribution -rotobuf (c:\\users\\muhammad iqbal\\anaconda3\\lib\\site-packages)\n",
      "WARNING: Ignoring invalid distribution -ensorflow-intel (c:\\users\\muhammad iqbal\\anaconda3\\lib\\site-packages)\n"
     ]
    },
    {
     "name": "stdout",
     "output_type": "stream",
     "text": [
      "Looking in links: https://download.pytorch.org/whl/torch_stable.html\n"
     ]
    },
    {
     "name": "stderr",
     "output_type": "stream",
     "text": [
      "WARNING: Ignoring invalid distribution -rotobuf (c:\\users\\muhammad iqbal\\anaconda3\\lib\\site-packages)\n",
      "WARNING: Ignoring invalid distribution -ensorflow-intel (c:\\users\\muhammad iqbal\\anaconda3\\lib\\site-packages)\n",
      "WARNING: Ignoring invalid distribution -rotobuf (c:\\users\\muhammad iqbal\\anaconda3\\lib\\site-packages)\n",
      "WARNING: Ignoring invalid distribution -ensorflow-intel (c:\\users\\muhammad iqbal\\anaconda3\\lib\\site-packages)\n",
      "ERROR: Could not find a version that satisfies the requirement torch==1.3.1+cpu (from versions: 1.11.0, 1.11.0+cpu, 1.11.0+cu113, 1.11.0+cu115, 1.12.0, 1.12.0+cpu, 1.12.0+cu113, 1.12.0+cu116, 1.12.1, 1.12.1+cpu, 1.12.1+cu113, 1.12.1+cu116, 1.13.0, 1.13.0+cpu, 1.13.0+cu116, 1.13.0+cu117, 1.13.1, 1.13.1+cpu, 1.13.1+cu116, 1.13.1+cu117, 2.0.0, 2.0.0+cpu, 2.0.0+cu117, 2.0.0+cu118, 2.0.1, 2.0.1+cpu, 2.0.1+cu117, 2.0.1+cu118, 2.1.0, 2.1.0+cpu, 2.1.0+cu118, 2.1.0+cu121)\n",
      "ERROR: No matching distribution found for torch==1.3.1+cpu\n",
      "WARNING: Ignoring invalid distribution -rotobuf (c:\\users\\muhammad iqbal\\anaconda3\\lib\\site-packages)\n",
      "WARNING: Ignoring invalid distribution -ensorflow-intel (c:\\users\\muhammad iqbal\\anaconda3\\lib\\site-packages)\n",
      "WARNING: Ignoring invalid distribution -rotobuf (c:\\users\\muhammad iqbal\\anaconda3\\lib\\site-packages)\n",
      "WARNING: Ignoring invalid distribution -ensorflow-intel (c:\\users\\muhammad iqbal\\anaconda3\\lib\\site-packages)\n",
      "WARNING: Ignoring invalid distribution -rotobuf (c:\\users\\muhammad iqbal\\anaconda3\\lib\\site-packages)\n",
      "WARNING: Ignoring invalid distribution -ensorflow-intel (c:\\users\\muhammad iqbal\\anaconda3\\lib\\site-packages)\n"
     ]
    }
   ],
   "source": [
    "!pip install inltk\n",
    "!pip install torch==1.3.1+cpu -f https://download.pytorch.org/whl/torch_stable.html"
   ]
  },
  {
   "cell_type": "code",
   "execution_count": 5,
   "id": "0746d0a5",
   "metadata": {},
   "outputs": [
    {
     "name": "stdout",
     "output_type": "stream",
     "text": [
      "Requirement already satisfied: inltk in c:\\users\\muhammad iqbal\\anaconda3\\lib\\site-packages (0.9)\n",
      "Requirement already satisfied: nvidia-ml-py3 in c:\\users\\muhammad iqbal\\anaconda3\\lib\\site-packages (from inltk) (7.352.0)\n",
      "Requirement already satisfied: aiohttp>=3.5.4 in c:\\users\\muhammad iqbal\\anaconda3\\lib\\site-packages (from inltk) (3.8.6)\n",
      "Requirement already satisfied: async-timeout>=3.0.1 in c:\\users\\muhammad iqbal\\anaconda3\\lib\\site-packages (from inltk) (4.0.3)\n",
      "Requirement already satisfied: scipy in c:\\users\\muhammad iqbal\\anaconda3\\lib\\site-packages (from inltk) (1.11.3)\n",
      "Requirement already satisfied: spacy>=2.0.18 in c:\\users\\muhammad iqbal\\anaconda3\\lib\\site-packages (from inltk) (3.7.1)\n",
      "Requirement already satisfied: beautifulsoup4 in c:\\users\\muhammad iqbal\\anaconda3\\lib\\site-packages (from inltk) (4.12.2)\n",
      "Requirement already satisfied: matplotlib in c:\\users\\muhammad iqbal\\anaconda3\\lib\\site-packages (from inltk) (3.8.0)\n",
      "Requirement already satisfied: pandas in c:\\users\\muhammad iqbal\\anaconda3\\lib\\site-packages (from inltk) (2.1.0)\n",
      "Requirement already satisfied: sentencepiece in c:\\users\\muhammad iqbal\\anaconda3\\lib\\site-packages (from inltk) (0.1.99)\n",
      "Requirement already satisfied: packaging in c:\\users\\muhammad iqbal\\anaconda3\\lib\\site-packages (from inltk) (23.1)\n",
      "Requirement already satisfied: Pillow in c:\\users\\muhammad iqbal\\anaconda3\\lib\\site-packages (from inltk) (9.4.0)\n",
      "Requirement already satisfied: fastprogress>=0.1.19 in c:\\users\\muhammad iqbal\\anaconda3\\lib\\site-packages (from inltk) (1.0.3)\n",
      "Requirement already satisfied: numpy>=1.15 in c:\\users\\muhammad iqbal\\anaconda3\\lib\\site-packages (from inltk) (1.25.2)\n",
      "Requirement already satisfied: bottleneck in c:\\users\\muhammad iqbal\\anaconda3\\lib\\site-packages (from inltk) (1.3.7)\n",
      "Requirement already satisfied: fastai==1.0.57 in c:\\users\\muhammad iqbal\\anaconda3\\lib\\site-packages (from inltk) (1.0.57)\n",
      "Requirement already satisfied: typing in c:\\users\\muhammad iqbal\\anaconda3\\lib\\site-packages (from inltk) (3.7.4.3)\n",
      "Requirement already satisfied: numexpr in c:\\users\\muhammad iqbal\\anaconda3\\lib\\site-packages (from inltk) (2.8.7)\n",
      "Requirement already satisfied: requests in c:\\users\\muhammad iqbal\\anaconda3\\lib\\site-packages (from inltk) (2.31.0)\n",
      "Requirement already satisfied: pyyaml in c:\\users\\muhammad iqbal\\anaconda3\\lib\\site-packages (from inltk) (6.0)\n",
      "Requirement already satisfied: torch>=1.0.0 in c:\\users\\muhammad iqbal\\anaconda3\\lib\\site-packages (from fastai==1.0.57->inltk) (2.1.0)\n",
      "Requirement already satisfied: torchvision in c:\\users\\muhammad iqbal\\anaconda3\\lib\\site-packages (from fastai==1.0.57->inltk) (0.16.0)\n",
      "Requirement already satisfied: yarl<2.0,>=1.0 in c:\\users\\muhammad iqbal\\anaconda3\\lib\\site-packages (from aiohttp>=3.5.4->inltk) (1.9.2)\n",
      "Requirement already satisfied: attrs>=17.3.0 in c:\\users\\muhammad iqbal\\anaconda3\\lib\\site-packages (from aiohttp>=3.5.4->inltk) (22.1.0)\n",
      "Requirement already satisfied: charset-normalizer<4.0,>=2.0 in c:\\users\\muhammad iqbal\\anaconda3\\lib\\site-packages (from aiohttp>=3.5.4->inltk) (2.0.4)\n",
      "Requirement already satisfied: aiosignal>=1.1.2 in c:\\users\\muhammad iqbal\\anaconda3\\lib\\site-packages (from aiohttp>=3.5.4->inltk) (1.3.1)\n",
      "Requirement already satisfied: frozenlist>=1.1.1 in c:\\users\\muhammad iqbal\\anaconda3\\lib\\site-packages (from aiohttp>=3.5.4->inltk) (1.4.0)\n",
      "Requirement already satisfied: multidict<7.0,>=4.5 in c:\\users\\muhammad iqbal\\anaconda3\\lib\\site-packages (from aiohttp>=3.5.4->inltk) (6.0.4)\n",
      "Requirement already satisfied: smart-open<7.0.0,>=5.2.1 in c:\\users\\muhammad iqbal\\anaconda3\\lib\\site-packages (from spacy>=2.0.18->inltk) (6.4.0)\n",
      "Requirement already satisfied: pathy>=0.10.0 in c:\\users\\muhammad iqbal\\anaconda3\\lib\\site-packages (from spacy>=2.0.18->inltk) (0.10.2)\n",
      "Requirement already satisfied: typer<0.10.0,>=0.3.0 in c:\\users\\muhammad iqbal\\anaconda3\\lib\\site-packages (from spacy>=2.0.18->inltk) (0.9.0)\n",
      "Requirement already satisfied: wasabi<1.2.0,>=0.9.1 in c:\\users\\muhammad iqbal\\anaconda3\\lib\\site-packages (from spacy>=2.0.18->inltk) (1.1.2)\n",
      "Requirement already satisfied: preshed<3.1.0,>=3.0.2 in c:\\users\\muhammad iqbal\\anaconda3\\lib\\site-packages (from spacy>=2.0.18->inltk) (3.0.9)\n",
      "Requirement already satisfied: jinja2 in c:\\users\\muhammad iqbal\\anaconda3\\lib\\site-packages (from spacy>=2.0.18->inltk) (3.1.2)\n",
      "Requirement already satisfied: spacy-legacy<3.1.0,>=3.0.11 in c:\\users\\muhammad iqbal\\anaconda3\\lib\\site-packages (from spacy>=2.0.18->inltk) (3.0.12)\n",
      "Requirement already satisfied: cymem<2.1.0,>=2.0.2 in c:\\users\\muhammad iqbal\\anaconda3\\lib\\site-packages (from spacy>=2.0.18->inltk) (2.0.8)\n",
      "Requirement already satisfied: setuptools in c:\\users\\muhammad iqbal\\anaconda3\\lib\\site-packages (from spacy>=2.0.18->inltk) (65.6.3)\n",
      "Requirement already satisfied: spacy-loggers<2.0.0,>=1.0.0 in c:\\users\\muhammad iqbal\\anaconda3\\lib\\site-packages (from spacy>=2.0.18->inltk) (1.0.5)\n",
      "Requirement already satisfied: weasel<0.4.0,>=0.1.0 in c:\\users\\muhammad iqbal\\anaconda3\\lib\\site-packages (from spacy>=2.0.18->inltk) (0.3.2)\n",
      "Requirement already satisfied: pydantic!=1.8,!=1.8.1,<3.0.0,>=1.7.4 in c:\\users\\muhammad iqbal\\anaconda3\\lib\\site-packages (from spacy>=2.0.18->inltk) (2.4.2)\n",
      "Requirement already satisfied: catalogue<2.1.0,>=2.0.6 in c:\\users\\muhammad iqbal\\anaconda3\\lib\\site-packages (from spacy>=2.0.18->inltk) (2.0.10)\n",
      "Requirement already satisfied: murmurhash<1.1.0,>=0.28.0 in c:\\users\\muhammad iqbal\\anaconda3\\lib\\site-packages (from spacy>=2.0.18->inltk) (1.0.10)\n",
      "Requirement already satisfied: thinc<8.3.0,>=8.1.8 in c:\\users\\muhammad iqbal\\anaconda3\\lib\\site-packages (from spacy>=2.0.18->inltk) (8.2.1)\n",
      "Requirement already satisfied: tqdm<5.0.0,>=4.38.0 in c:\\users\\muhammad iqbal\\anaconda3\\lib\\site-packages (from spacy>=2.0.18->inltk) (4.65.0)\n",
      "Requirement already satisfied: langcodes<4.0.0,>=3.2.0 in c:\\users\\muhammad iqbal\\anaconda3\\lib\\site-packages (from spacy>=2.0.18->inltk) (3.3.0)\n",
      "Requirement already satisfied: srsly<3.0.0,>=2.4.3 in c:\\users\\muhammad iqbal\\anaconda3\\lib\\site-packages (from spacy>=2.0.18->inltk) (2.4.8)\n",
      "Requirement already satisfied: urllib3<3,>=1.21.1 in c:\\users\\muhammad iqbal\\anaconda3\\lib\\site-packages (from requests->inltk) (1.26.16)\n",
      "Requirement already satisfied: certifi>=2017.4.17 in c:\\users\\muhammad iqbal\\anaconda3\\lib\\site-packages (from requests->inltk) (2023.7.22)\n",
      "Requirement already satisfied: idna<4,>=2.5 in c:\\users\\muhammad iqbal\\anaconda3\\lib\\site-packages (from requests->inltk) (2.10)\n",
      "Requirement already satisfied: soupsieve>1.2 in c:\\users\\muhammad iqbal\\anaconda3\\lib\\site-packages (from beautifulsoup4->inltk) (2.4)\n",
      "Requirement already satisfied: fonttools>=4.22.0 in c:\\users\\muhammad iqbal\\anaconda3\\lib\\site-packages (from matplotlib->inltk) (4.42.1)\n",
      "Requirement already satisfied: cycler>=0.10 in c:\\users\\muhammad iqbal\\anaconda3\\lib\\site-packages (from matplotlib->inltk) (0.11.0)\n",
      "Requirement already satisfied: kiwisolver>=1.0.1 in c:\\users\\muhammad iqbal\\anaconda3\\lib\\site-packages (from matplotlib->inltk) (1.4.5)\n",
      "Requirement already satisfied: contourpy>=1.0.1 in c:\\users\\muhammad iqbal\\anaconda3\\lib\\site-packages (from matplotlib->inltk) (1.1.1)\n",
      "Requirement already satisfied: python-dateutil>=2.7 in c:\\users\\muhammad iqbal\\anaconda3\\lib\\site-packages (from matplotlib->inltk) (2.8.2)\n",
      "Requirement already satisfied: pyparsing>=2.3.1 in c:\\users\\muhammad iqbal\\anaconda3\\lib\\site-packages (from matplotlib->inltk) (3.1.1)\n",
      "Requirement already satisfied: pytz>=2020.1 in c:\\users\\muhammad iqbal\\anaconda3\\lib\\site-packages (from pandas->inltk) (2022.7)\n",
      "Requirement already satisfied: tzdata>=2022.1 in c:\\users\\muhammad iqbal\\anaconda3\\lib\\site-packages (from pandas->inltk) (2023.3)\n",
      "Requirement already satisfied: annotated-types>=0.4.0 in c:\\users\\muhammad iqbal\\anaconda3\\lib\\site-packages (from pydantic!=1.8,!=1.8.1,<3.0.0,>=1.7.4->spacy>=2.0.18->inltk) (0.6.0)\n",
      "Requirement already satisfied: typing-extensions>=4.6.1 in c:\\users\\muhammad iqbal\\anaconda3\\lib\\site-packages (from pydantic!=1.8,!=1.8.1,<3.0.0,>=1.7.4->spacy>=2.0.18->inltk) (4.7.1)\n",
      "Requirement already satisfied: pydantic-core==2.10.1 in c:\\users\\muhammad iqbal\\anaconda3\\lib\\site-packages (from pydantic!=1.8,!=1.8.1,<3.0.0,>=1.7.4->spacy>=2.0.18->inltk) (2.10.1)\n",
      "Requirement already satisfied: six>=1.5 in c:\\users\\muhammad iqbal\\anaconda3\\lib\\site-packages (from python-dateutil>=2.7->matplotlib->inltk) (1.16.0)\n",
      "Requirement already satisfied: blis<0.8.0,>=0.7.8 in c:\\users\\muhammad iqbal\\anaconda3\\lib\\site-packages (from thinc<8.3.0,>=8.1.8->spacy>=2.0.18->inltk) (0.7.11)\n",
      "Requirement already satisfied: confection<1.0.0,>=0.0.1 in c:\\users\\muhammad iqbal\\anaconda3\\lib\\site-packages (from thinc<8.3.0,>=8.1.8->spacy>=2.0.18->inltk) (0.1.3)\n",
      "Requirement already satisfied: networkx in c:\\users\\muhammad iqbal\\anaconda3\\lib\\site-packages (from torch>=1.0.0->fastai==1.0.57->inltk) (3.2)\n",
      "Requirement already satisfied: fsspec in c:\\users\\muhammad iqbal\\anaconda3\\lib\\site-packages (from torch>=1.0.0->fastai==1.0.57->inltk) (2023.10.0)\n",
      "Requirement already satisfied: filelock in c:\\users\\muhammad iqbal\\anaconda3\\lib\\site-packages (from torch>=1.0.0->fastai==1.0.57->inltk) (3.9.0)\n",
      "Requirement already satisfied: sympy in c:\\users\\muhammad iqbal\\anaconda3\\lib\\site-packages (from torch>=1.0.0->fastai==1.0.57->inltk) (1.12)\n",
      "Requirement already satisfied: colorama in c:\\users\\muhammad iqbal\\anaconda3\\lib\\site-packages (from tqdm<5.0.0,>=4.38.0->spacy>=2.0.18->inltk) (0.4.6)\n",
      "Requirement already satisfied: click<9.0.0,>=7.1.1 in c:\\users\\muhammad iqbal\\anaconda3\\lib\\site-packages (from typer<0.10.0,>=0.3.0->spacy>=2.0.18->inltk) (8.0.4)\n",
      "Requirement already satisfied: cloudpathlib<0.16.0,>=0.7.0 in c:\\users\\muhammad iqbal\\anaconda3\\lib\\site-packages (from weasel<0.4.0,>=0.1.0->spacy>=2.0.18->inltk) (0.15.1)\n",
      "Requirement already satisfied: MarkupSafe>=2.0 in c:\\users\\muhammad iqbal\\anaconda3\\lib\\site-packages (from jinja2->spacy>=2.0.18->inltk) (2.1.1)\n",
      "Requirement already satisfied: mpmath>=0.19 in c:\\users\\muhammad iqbal\\anaconda3\\lib\\site-packages (from sympy->torch>=1.0.0->fastai==1.0.57->inltk) (1.3.0)\n"
     ]
    },
    {
     "name": "stderr",
     "output_type": "stream",
     "text": [
      "WARNING: Ignoring invalid distribution -rotobuf (c:\\users\\muhammad iqbal\\anaconda3\\lib\\site-packages)\n",
      "WARNING: Ignoring invalid distribution -ensorflow-intel (c:\\users\\muhammad iqbal\\anaconda3\\lib\\site-packages)\n",
      "WARNING: Ignoring invalid distribution -rotobuf (c:\\users\\muhammad iqbal\\anaconda3\\lib\\site-packages)\n",
      "WARNING: Ignoring invalid distribution -ensorflow-intel (c:\\users\\muhammad iqbal\\anaconda3\\lib\\site-packages)\n",
      "WARNING: Ignoring invalid distribution -rotobuf (c:\\users\\muhammad iqbal\\anaconda3\\lib\\site-packages)\n",
      "WARNING: Ignoring invalid distribution -ensorflow-intel (c:\\users\\muhammad iqbal\\anaconda3\\lib\\site-packages)\n",
      "WARNING: Ignoring invalid distribution -rotobuf (c:\\users\\muhammad iqbal\\anaconda3\\lib\\site-packages)\n",
      "WARNING: Ignoring invalid distribution -ensorflow-intel (c:\\users\\muhammad iqbal\\anaconda3\\lib\\site-packages)\n",
      "WARNING: Ignoring invalid distribution -rotobuf (c:\\users\\muhammad iqbal\\anaconda3\\lib\\site-packages)\n",
      "WARNING: Ignoring invalid distribution -ensorflow-intel (c:\\users\\muhammad iqbal\\anaconda3\\lib\\site-packages)\n",
      "WARNING: Ignoring invalid distribution -rotobuf (c:\\users\\muhammad iqbal\\anaconda3\\lib\\site-packages)\n",
      "WARNING: Ignoring invalid distribution -ensorflow-intel (c:\\users\\muhammad iqbal\\anaconda3\\lib\\site-packages)\n"
     ]
    },
    {
     "name": "stdout",
     "output_type": "stream",
     "text": [
      "Requirement already satisfied: torch in c:\\users\\muhammad iqbal\\anaconda3\\lib\\site-packages (2.1.0)\n",
      "Requirement already satisfied: sympy in c:\\users\\muhammad iqbal\\anaconda3\\lib\\site-packages (from torch) (1.12)\n",
      "Requirement already satisfied: filelock in c:\\users\\muhammad iqbal\\anaconda3\\lib\\site-packages (from torch) (3.9.0)\n",
      "Requirement already satisfied: jinja2 in c:\\users\\muhammad iqbal\\anaconda3\\lib\\site-packages (from torch) (3.1.2)\n",
      "Requirement already satisfied: fsspec in c:\\users\\muhammad iqbal\\anaconda3\\lib\\site-packages (from torch) (2023.10.0)\n",
      "Requirement already satisfied: networkx in c:\\users\\muhammad iqbal\\anaconda3\\lib\\site-packages (from torch) (3.2)\n",
      "Requirement already satisfied: typing-extensions in c:\\users\\muhammad iqbal\\anaconda3\\lib\\site-packages (from torch) (4.7.1)\n",
      "Requirement already satisfied: MarkupSafe>=2.0 in c:\\users\\muhammad iqbal\\anaconda3\\lib\\site-packages (from jinja2->torch) (2.1.1)\n",
      "Requirement already satisfied: mpmath>=0.19 in c:\\users\\muhammad iqbal\\anaconda3\\lib\\site-packages (from sympy->torch) (1.3.0)\n"
     ]
    },
    {
     "name": "stderr",
     "output_type": "stream",
     "text": [
      "WARNING: Ignoring invalid distribution -rotobuf (c:\\users\\muhammad iqbal\\anaconda3\\lib\\site-packages)\n",
      "WARNING: Ignoring invalid distribution -ensorflow-intel (c:\\users\\muhammad iqbal\\anaconda3\\lib\\site-packages)\n",
      "WARNING: Ignoring invalid distribution -rotobuf (c:\\users\\muhammad iqbal\\anaconda3\\lib\\site-packages)\n",
      "WARNING: Ignoring invalid distribution -ensorflow-intel (c:\\users\\muhammad iqbal\\anaconda3\\lib\\site-packages)\n",
      "WARNING: Ignoring invalid distribution -rotobuf (c:\\users\\muhammad iqbal\\anaconda3\\lib\\site-packages)\n",
      "WARNING: Ignoring invalid distribution -ensorflow-intel (c:\\users\\muhammad iqbal\\anaconda3\\lib\\site-packages)\n",
      "WARNING: Ignoring invalid distribution -rotobuf (c:\\users\\muhammad iqbal\\anaconda3\\lib\\site-packages)\n",
      "WARNING: Ignoring invalid distribution -ensorflow-intel (c:\\users\\muhammad iqbal\\anaconda3\\lib\\site-packages)\n",
      "WARNING: Ignoring invalid distribution -rotobuf (c:\\users\\muhammad iqbal\\anaconda3\\lib\\site-packages)\n",
      "WARNING: Ignoring invalid distribution -ensorflow-intel (c:\\users\\muhammad iqbal\\anaconda3\\lib\\site-packages)\n",
      "WARNING: Ignoring invalid distribution -rotobuf (c:\\users\\muhammad iqbal\\anaconda3\\lib\\site-packages)\n",
      "WARNING: Ignoring invalid distribution -ensorflow-intel (c:\\users\\muhammad iqbal\\anaconda3\\lib\\site-packages)\n"
     ]
    }
   ],
   "source": [
    "!pip install --upgrade inltk\n",
    "!pip install --upgrade torch"
   ]
  },
  {
   "cell_type": "code",
   "execution_count": 3,
   "id": "22b5069a",
   "metadata": {},
   "outputs": [],
   "source": [
    "#from collections import abc,  Counter, defaultdict, namedtuple, OrderedDict\n",
    "#from collections.abc import Iterable"
   ]
  },
  {
   "cell_type": "code",
   "execution_count": null,
   "id": "60ae7ead",
   "metadata": {},
   "outputs": [],
   "source": [
    "# Setup the language\n",
    "\n",
    "from inltk.inltk import setup"
   ]
  },
  {
   "cell_type": "code",
   "execution_count": 2,
   "id": "e6c083cf",
   "metadata": {},
   "outputs": [
    {
     "ename": "RuntimeError",
     "evalue": "This event loop is already running",
     "output_type": "error",
     "traceback": [
      "\u001b[1;31m---------------------------------------------------------------------------\u001b[0m",
      "\u001b[1;31mRuntimeError\u001b[0m                              Traceback (most recent call last)",
      "Cell \u001b[1;32mIn[2], line 1\u001b[0m\n\u001b[1;32m----> 1\u001b[0m \u001b[43msetup\u001b[49m\u001b[43m(\u001b[49m\u001b[38;5;124;43m'\u001b[39;49m\u001b[38;5;124;43mur\u001b[39;49m\u001b[38;5;124;43m'\u001b[39;49m\u001b[43m)\u001b[49m\n",
      "File \u001b[1;32m~\\anaconda3\\envs\\pythonUrdu\\lib\\site-packages\\inltk\\inltk.py:33\u001b[0m, in \u001b[0;36msetup\u001b[1;34m(language_code)\u001b[0m\n\u001b[0;32m     31\u001b[0m loop \u001b[38;5;241m=\u001b[39m asyncio\u001b[38;5;241m.\u001b[39mget_event_loop()\n\u001b[0;32m     32\u001b[0m tasks \u001b[38;5;241m=\u001b[39m [asyncio\u001b[38;5;241m.\u001b[39mensure_future(download(language_code))]\n\u001b[1;32m---> 33\u001b[0m learn \u001b[38;5;241m=\u001b[39m \u001b[43mloop\u001b[49m\u001b[38;5;241;43m.\u001b[39;49m\u001b[43mrun_until_complete\u001b[49m\u001b[43m(\u001b[49m\u001b[43masyncio\u001b[49m\u001b[38;5;241;43m.\u001b[39;49m\u001b[43mgather\u001b[49m\u001b[43m(\u001b[49m\u001b[38;5;241;43m*\u001b[39;49m\u001b[43mtasks\u001b[49m\u001b[43m)\u001b[49m\u001b[43m)\u001b[49m[\u001b[38;5;241m0\u001b[39m]\n\u001b[0;32m     34\u001b[0m loop\u001b[38;5;241m.\u001b[39mclose()\n",
      "File \u001b[1;32m~\\anaconda3\\envs\\pythonUrdu\\lib\\asyncio\\base_events.py:623\u001b[0m, in \u001b[0;36mBaseEventLoop.run_until_complete\u001b[1;34m(self, future)\u001b[0m\n\u001b[0;32m    612\u001b[0m \u001b[38;5;250m\u001b[39m\u001b[38;5;124;03m\"\"\"Run until the Future is done.\u001b[39;00m\n\u001b[0;32m    613\u001b[0m \n\u001b[0;32m    614\u001b[0m \u001b[38;5;124;03mIf the argument is a coroutine, it is wrapped in a Task.\u001b[39;00m\n\u001b[1;32m   (...)\u001b[0m\n\u001b[0;32m    620\u001b[0m \u001b[38;5;124;03mReturn the Future's result, or raise its exception.\u001b[39;00m\n\u001b[0;32m    621\u001b[0m \u001b[38;5;124;03m\"\"\"\u001b[39;00m\n\u001b[0;32m    622\u001b[0m \u001b[38;5;28mself\u001b[39m\u001b[38;5;241m.\u001b[39m_check_closed()\n\u001b[1;32m--> 623\u001b[0m \u001b[38;5;28;43mself\u001b[39;49m\u001b[38;5;241;43m.\u001b[39;49m\u001b[43m_check_running\u001b[49m\u001b[43m(\u001b[49m\u001b[43m)\u001b[49m\n\u001b[0;32m    625\u001b[0m new_task \u001b[38;5;241m=\u001b[39m \u001b[38;5;129;01mnot\u001b[39;00m futures\u001b[38;5;241m.\u001b[39misfuture(future)\n\u001b[0;32m    626\u001b[0m future \u001b[38;5;241m=\u001b[39m tasks\u001b[38;5;241m.\u001b[39mensure_future(future, loop\u001b[38;5;241m=\u001b[39m\u001b[38;5;28mself\u001b[39m)\n",
      "File \u001b[1;32m~\\anaconda3\\envs\\pythonUrdu\\lib\\asyncio\\base_events.py:583\u001b[0m, in \u001b[0;36mBaseEventLoop._check_running\u001b[1;34m(self)\u001b[0m\n\u001b[0;32m    581\u001b[0m \u001b[38;5;28;01mdef\u001b[39;00m \u001b[38;5;21m_check_running\u001b[39m(\u001b[38;5;28mself\u001b[39m):\n\u001b[0;32m    582\u001b[0m     \u001b[38;5;28;01mif\u001b[39;00m \u001b[38;5;28mself\u001b[39m\u001b[38;5;241m.\u001b[39mis_running():\n\u001b[1;32m--> 583\u001b[0m         \u001b[38;5;28;01mraise\u001b[39;00m \u001b[38;5;167;01mRuntimeError\u001b[39;00m(\u001b[38;5;124m'\u001b[39m\u001b[38;5;124mThis event loop is already running\u001b[39m\u001b[38;5;124m'\u001b[39m)\n\u001b[0;32m    584\u001b[0m     \u001b[38;5;28;01mif\u001b[39;00m events\u001b[38;5;241m.\u001b[39m_get_running_loop() \u001b[38;5;129;01mis\u001b[39;00m \u001b[38;5;129;01mnot\u001b[39;00m \u001b[38;5;28;01mNone\u001b[39;00m:\n\u001b[0;32m    585\u001b[0m         \u001b[38;5;28;01mraise\u001b[39;00m \u001b[38;5;167;01mRuntimeError\u001b[39;00m(\n\u001b[0;32m    586\u001b[0m             \u001b[38;5;124m'\u001b[39m\u001b[38;5;124mCannot run the event loop while another loop is running\u001b[39m\u001b[38;5;124m'\u001b[39m)\n",
      "\u001b[1;31mRuntimeError\u001b[0m: This event loop is already running"
     ]
    },
    {
     "name": "stdout",
     "output_type": "stream",
     "text": [
      "Done!\n"
     ]
    }
   ],
   "source": [
    "setup('ur')"
   ]
  },
  {
   "cell_type": "code",
   "execution_count": null,
   "id": "e3d1addc",
   "metadata": {},
   "outputs": [],
   "source": []
  }
 ],
 "metadata": {
  "kernelspec": {
   "display_name": "Python 3 (ipykernel)",
   "language": "python",
   "name": "python3"
  },
  "language_info": {
   "codemirror_mode": {
    "name": "ipython",
    "version": 3
   },
   "file_extension": ".py",
   "mimetype": "text/x-python",
   "name": "python",
   "nbconvert_exporter": "python",
   "pygments_lexer": "ipython3",
   "version": "3.10.9"
  }
 },
 "nbformat": 4,
 "nbformat_minor": 5
}
